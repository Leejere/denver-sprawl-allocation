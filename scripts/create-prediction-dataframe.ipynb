{
 "cells": [
  {
   "cell_type": "code",
   "execution_count": 110,
   "metadata": {},
   "outputs": [],
   "source": [
    "import numpy as np\n",
    "import pandas as pd\n",
    "import geopandas as gpd\n",
    "import rasterio as rio\n",
    "from shapely.geometry import shape\n",
    "import rasterio.features\n",
    "from matplotlib import pyplot as plt\n",
    "from shapely.geometry import Polygon, Point\n",
    "\n",
    "crs = \"EPSG:2232\""
   ]
  },
  {
   "cell_type": "code",
   "execution_count": 134,
   "metadata": {},
   "outputs": [],
   "source": [
    "land_cover_2009 = rio.open(\"../data/land-cover/2009.tif\")\n",
    "land_cover_2019 = rio.open(\"../data/land-cover/2019.tif\")"
   ]
  },
  {
   "cell_type": "code",
   "execution_count": 138,
   "metadata": {},
   "outputs": [],
   "source": [
    "def raster_to_shape(raster, crs, to_point=False, value_column=\"value\"):\n",
    "    data_array = raster.read(1)\n",
    "    transform = raster.transform\n",
    "    shapes_data = []\n",
    "    height, width = data_array.shape\n",
    "\n",
    "    if to_point:\n",
    "        for row in range(height):\n",
    "            for col in range(width):\n",
    "                value = data_array[row, col]\n",
    "                if np.isnan(value):\n",
    "                    continue\n",
    "                x, y = transform * (col + 0.5, row + 0.5)\n",
    "                # Create a polygon for the cell\n",
    "                point = Point(x, y)\n",
    "                # Add the polygon and its value to the list\n",
    "                shapes_data.append({\"geometry\": point, value_column: value})\n",
    "        return gpd.GeoDataFrame(shapes_data, crs=crs)\n",
    "    \n",
    "    for row in range(height):\n",
    "        for col in range(width):\n",
    "            value = data_array[row, col]\n",
    "            if np.isnan(value):\n",
    "                continue\n",
    "            x_min, y_max = transform * (col, row)\n",
    "            x_max, y_min = transform * (col + 1, row + 1)\n",
    "            # Create a polygon for the cell\n",
    "            polygon = Polygon([(x_min, y_min), (x_min, y_max), (x_max, y_max), (x_max, y_min)])\n",
    "            # Add the polygon and its value to the list\n",
    "            shapes_data.append({\"geometry\": polygon, value_column: value})\n",
    "    return gpd.GeoDataFrame(shapes_data, crs=crs)"
   ]
  },
  {
   "cell_type": "code",
   "execution_count": 140,
   "metadata": {},
   "outputs": [],
   "source": [
    "fishnet = (\n",
    "    raster_to_shape(\n",
    "        land_cover_2009, crs, to_point=False, value_column=\"land_cover_2009\"\n",
    "    )\n",
    "    .query(\"land_cover_2009 != 0\")\n",
    "    .copy()\n",
    ")\n",
    "points_2019 = (\n",
    "    raster_to_shape(land_cover_2019, crs, to_point=True, value_column=\"land_cover_2019\")\n",
    "    .query(\"land_cover_2019 != 0\")\n",
    "    .copy()\n",
    ")\n",
    "\n",
    "# Join points to fishnet, no index right\n",
    "fishnet = gpd.sjoin(fishnet, points_2019, how=\"left\", predicate=\"contains\").drop(\n",
    "    columns=[\"index_right\"]\n",
    ")"
   ]
  }
 ],
 "metadata": {
  "kernelspec": {
   "display_name": "env",
   "language": "python",
   "name": "python3"
  },
  "language_info": {
   "codemirror_mode": {
    "name": "ipython",
    "version": 3
   },
   "file_extension": ".py",
   "mimetype": "text/x-python",
   "name": "python",
   "nbconvert_exporter": "python",
   "pygments_lexer": "ipython3",
   "version": "3.11.2"
  },
  "orig_nbformat": 4
 },
 "nbformat": 4,
 "nbformat_minor": 2
}
