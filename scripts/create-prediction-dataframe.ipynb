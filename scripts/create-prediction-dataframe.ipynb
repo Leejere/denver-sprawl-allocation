{
 "cells": [
  {
   "cell_type": "code",
   "execution_count": 110,
   "metadata": {},
   "outputs": [],
   "source": [
    "import numpy as np\n",
    "import pandas as pd\n",
    "import geopandas as gpd\n",
    "import rasterio as rio\n",
    "from shapely.geometry import shape\n",
    "import rasterio.features\n",
    "from matplotlib import pyplot as plt\n",
    "from shapely.geometry import Polygon, Point\n",
    "\n",
    "crs = \"EPSG:2232\""
   ]
  },
  {
   "cell_type": "code",
   "execution_count": null,
   "metadata": {},
   "outputs": [],
   "source": [
    "# Color\n",
    "%run ../assets/colors.py\n",
    "# rcParams for MPL\n",
    "%run ../assets/rcParams.py"
   ]
  },
  {
   "cell_type": "code",
   "execution_count": 134,
   "metadata": {},
   "outputs": [],
   "source": [
    "land_cover_2009 = rio.open(\"../data/land-cover/2009.tif\")\n",
    "land_cover_2019 = rio.open(\"../data/land-cover/2019.tif\")"
   ]
  },
  {
   "attachments": {},
   "cell_type": "markdown",
   "metadata": {},
   "source": [
    "Function to transform land cover rasters to fishnet or points."
   ]
  },
  {
   "cell_type": "code",
   "execution_count": 138,
   "metadata": {},
   "outputs": [],
   "source": [
    "def raster_to_shape(raster, crs, to_point=False, value_column=\"value\"):\n",
    "    data_array = raster.read(1)\n",
    "    transform = raster.transform\n",
    "    shapes_data = []\n",
    "    height, width = data_array.shape\n",
    "\n",
    "    if to_point:\n",
    "        for row in range(height):\n",
    "            for col in range(width):\n",
    "                value = data_array[row, col]\n",
    "                if np.isnan(value):\n",
    "                    continue\n",
    "                x, y = transform * (col + 0.5, row + 0.5)\n",
    "                # Create a polygon for the cell\n",
    "                point = Point(x, y)\n",
    "                # Add the polygon and its value to the list\n",
    "                shapes_data.append({\"geometry\": point, value_column: value})\n",
    "        return gpd.GeoDataFrame(shapes_data, crs=crs)\n",
    "    \n",
    "    for row in range(height):\n",
    "        for col in range(width):\n",
    "            value = data_array[row, col]\n",
    "            if np.isnan(value):\n",
    "                continue\n",
    "            x_min, y_max = transform * (col, row)\n",
    "            x_max, y_min = transform * (col + 1, row + 1)\n",
    "            # Create a polygon for the cell\n",
    "            polygon = Polygon([(x_min, y_min), (x_min, y_max), (x_max, y_max), (x_max, y_min)])\n",
    "            # Add the polygon and its value to the list\n",
    "            shapes_data.append({\"geometry\": polygon, value_column: value})\n",
    "    return gpd.GeoDataFrame(shapes_data, crs=crs)"
   ]
  },
  {
   "attachments": {},
   "cell_type": "markdown",
   "metadata": {},
   "source": [
    "Get a fishnet containing two columns, `land_cover_2009` and `land_cover_2019`"
   ]
  },
  {
   "cell_type": "code",
   "execution_count": 158,
   "metadata": {},
   "outputs": [],
   "source": [
    "fishnet = (\n",
    "    raster_to_shape(\n",
    "        land_cover_2009, crs, to_point=False, value_column=\"land_cover_2009\"\n",
    "    )\n",
    "    .query(\"land_cover_2009 != 0\")\n",
    "    .copy()\n",
    ")\n",
    "points_2019 = (\n",
    "    raster_to_shape(land_cover_2019, crs, to_point=True, value_column=\"land_cover_2019\")\n",
    "    .query(\"land_cover_2019 != 0\")\n",
    "    .copy()\n",
    ")\n",
    "\n",
    "# Join points to fishnet, no index right\n",
    "fishnet = gpd.sjoin(fishnet, points_2019, how=\"left\", predicate=\"contains\").drop(\n",
    "    columns=[\"index_right\"]\n",
    ")"
   ]
  },
  {
   "attachments": {},
   "cell_type": "markdown",
   "metadata": {},
   "source": [
    "[Land cover data dictionary](https://www.mrlc.gov/data/legends/national-land-cover-database-class-legend-and-description)\n",
    "Make two columns of boolean values: whether developed in the years 2009 or 2019"
   ]
  },
  {
   "cell_type": "code",
   "execution_count": 162,
   "metadata": {},
   "outputs": [],
   "source": [
    "developed = [21, 22, 23, 24]\n",
    "for year in [2009, 2019]:\n",
    "    fishnet[f\"developed_{year}\"] = fishnet[f\"land_cover_{year}\"].isin(developed)\n",
    "    fishnet.drop(columns=[f\"land_cover_{year}\"], inplace=True)"
   ]
  },
  {
   "cell_type": "code",
   "execution_count": 168,
   "metadata": {},
   "outputs": [],
   "source": [
    "import cenpy"
   ]
  },
  {
   "cell_type": "code",
   "execution_count": 224,
   "metadata": {},
   "outputs": [],
   "source": [
    "counties = [\"001\", \"005\", \"031\", \"035\", \"014\", \"039\", \"059\", \"093\", \"019\", \"047\"]"
   ]
  },
  {
   "cell_type": "code",
   "execution_count": 275,
   "metadata": {},
   "outputs": [],
   "source": [
    "datasets = {\n",
    "    \"2010\": {\n",
    "        \"dataset\": \"DECENNIALPL2010\",\n",
    "        \"variable\": \"P001001\",\n",
    "        \"geo_column\": \"GEOID10\",\n",
    "    }, \n",
    "    \"2020\": {\n",
    "        \"dataset\": \"DECENNIALPL2020\",\n",
    "        \"variable\": \"P1_001N\",\n",
    "        \"geo_column\": \"GEOID20\",\n",
    "    }\n",
    "}"
   ]
  },
  {
   "cell_type": "code",
   "execution_count": null,
   "metadata": {},
   "outputs": [],
   "source": [
    "from pygris import blocks"
   ]
  },
  {
   "cell_type": "code",
   "execution_count": 296,
   "metadata": {},
   "outputs": [],
   "source": [
    "def get_data_with_geo(connection, county, year, geo_column, variable):\n",
    "    # Get data from the Census API\n",
    "    query = connection.query(\n",
    "        cols=[variable],\n",
    "        geo_unit=\"block:*\",\n",
    "        geo_filter={\"state\": \"08\", \"county\": county},\n",
    "    )\n",
    "    query[geo_column] = query.state + query.county + query.tract + query.block\n",
    "    query = query.rename(columns={variable: \"population\"}).drop(\n",
    "        columns=[\"state\", \"county\", \"tract\", \"block\"]\n",
    "    )\n",
    "\n",
    "    # Get the block geometries\n",
    "    blocks_gdf = blocks(\n",
    "        state=\"08\",\n",
    "        county=county,\n",
    "        year=int(year),\n",
    "    )[[geo_column, \"geometry\"]]\n",
    "\n",
    "    # Merge the data with the geometries\n",
    "    query = blocks_gdf.merge(query, on=geo_column, how=\"left\")\n",
    "    return query.rename(\n",
    "        columns={geo_column: \"GEOID\", \"population\": f\"population_{year}\"}\n",
    "    )"
   ]
  },
  {
   "cell_type": "code",
   "execution_count": 291,
   "metadata": {},
   "outputs": [],
   "source": [
    "test = get_data_with_geo(\n",
    "    cenpy.remote.APIConnection(datasets[\"2020\"][\"dataset\"]),\n",
    "    \"031\",\n",
    "    \"2020\",\n",
    "    \"GEOID20\",\n",
    "    \"P1_001N\",\n",
    ")"
   ]
  },
  {
   "cell_type": "code",
   "execution_count": 294,
   "metadata": {},
   "outputs": [],
   "source": [
    "test2 = get_data_with_geo(\n",
    "    cenpy.remote.APIConnection(datasets[\"2010\"][\"dataset\"]),\n",
    "    \"031\",\n",
    "    \"2010\",\n",
    "    \"GEOID10\",\n",
    "    \"P001001\",\n",
    ")"
   ]
  },
  {
   "cell_type": "code",
   "execution_count": 297,
   "metadata": {},
   "outputs": [],
   "source": [
    "# Create an empty DataFrame to store the results\n",
    "population_2010 = pd.DataFrame()\n",
    "population_2020 = pd.DataFrame()"
   ]
  },
  {
   "cell_type": "code",
   "execution_count": 298,
   "metadata": {},
   "outputs": [
    {
     "name": "stdout",
     "output_type": "stream",
     "text": [
      "finished for 001 in 2010\n",
      "finished for 005 in 2010\n",
      "finished for 031 in 2010\n",
      "finished for 035 in 2010\n",
      "finished for 014 in 2010\n",
      "finished for 039 in 2010\n",
      "finished for 059 in 2010\n",
      "finished for 093 in 2010\n",
      "finished for 019 in 2010\n",
      "finished for 047 in 2010\n",
      "finished for 001 in 2020\n",
      "finished for 005 in 2020\n",
      "finished for 031 in 2020\n",
      "finished for 035 in 2020\n",
      "finished for 014 in 2020\n",
      "finished for 039 in 2020\n",
      "finished for 059 in 2020\n",
      "finished for 093 in 2020\n",
      "finished for 019 in 2020\n",
      "finished for 047 in 2020\n"
     ]
    }
   ],
   "source": [
    "# Loop through the census datasets and county FIPS codes to get block-level population data\n",
    "for year, dataset in datasets.items():\n",
    "    connection = cenpy.remote.APIConnection(dataset[\"dataset\"])\n",
    "    for county in counties:\n",
    "        subset = get_data_with_geo(\n",
    "            connection=connection,\n",
    "            county=county,\n",
    "            year=year,\n",
    "            geo_column=dataset[\"geo_column\"],\n",
    "            variable=dataset[\"variable\"],\n",
    "        )\n",
    "        globals()[f\"population_{year}\"] = pd.concat(\n",
    "            [globals()[f\"population_{year}\"], subset], ignore_index=True\n",
    "        )\n",
    "        print(f\"finished for {county} in {year}\")"
   ]
  },
  {
   "cell_type": "code",
   "execution_count": 302,
   "metadata": {},
   "outputs": [
    {
     "data": {
      "text/plain": [
       "<Axes: >"
      ]
     },
     "execution_count": 302,
     "metadata": {},
     "output_type": "execute_result"
    }
   ],
   "source": [
    "population_2010.plot(\n",
    "    column=\"population_2010\",\n",
    "    legend=True,\n",
    "    cmap=\"viridis\",\n",
    ")"
   ]
  }
 ],
 "metadata": {
  "kernelspec": {
   "display_name": "env",
   "language": "python",
   "name": "python3"
  },
  "language_info": {
   "codemirror_mode": {
    "name": "ipython",
    "version": 3
   },
   "file_extension": ".py",
   "mimetype": "text/x-python",
   "name": "python",
   "nbconvert_exporter": "python",
   "pygments_lexer": "ipython3",
   "version": "3.11.2"
  },
  "orig_nbformat": 4
 },
 "nbformat": 4,
 "nbformat_minor": 2
}
